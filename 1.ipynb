{
 "cells": [
  {
   "cell_type": "markdown",
   "id": "95e6421d",
   "metadata": {},
   "source": [
    "## Задание 2.\n",
    "\n",
    "### На складе лежат разные фрукты в разном количестве.\n",
    "### Нужно написать функцию, которая на вход принимает любое количество названий фруктов и их количество, а возвращает общее количество фруктов на складе"
   ]
  },
  {
   "cell_type": "code",
   "execution_count": 1,
   "id": "fe4c7e51",
   "metadata": {},
   "outputs": [],
   "source": [
    "def count_fruits(*fruits):\n",
    "    total = 0\n",
    "    for fruit in fruits:\n",
    "        total += fruit\n",
    "    return total"
   ]
  },
  {
   "cell_type": "code",
   "execution_count": 2,
   "id": "0bbb265b",
   "metadata": {},
   "outputs": [
    {
     "name": "stdout",
     "output_type": "stream",
     "text": [
      "Total number of fruits: 45\n"
     ]
    }
   ],
   "source": [
    "fruits_dict = {\"apple\": 10, \"banana\": 15, \"orange\": 20}\n",
    "total_fruits = count_fruits(*fruits_dict.values())\n",
    "print(\"Total number of fruits:\", total_fruits)"
   ]
  },
  {
   "cell_type": "markdown",
   "id": "6fd6ada2",
   "metadata": {},
   "source": [
    "## Задание 3.\n",
    "#### Дан список с затратами на рекламу. Но в данных есть ошибки, некоторые затраты имеют отрицательную величину. Удалите такие значения из списка и посчитайте суммарные затраты\n",
    "[100, 125, -90, 345, 655, -1, 0, 200]\n",
    "#### Используйте list comprehensions"
   ]
  },
  {
   "cell_type": "code",
   "execution_count": 3,
   "id": "d7e77b7a",
   "metadata": {},
   "outputs": [
    {
     "name": "stdout",
     "output_type": "stream",
     "text": [
      "1425\n"
     ]
    }
   ],
   "source": [
    "costs = [100, 125, -90, 345, 655, -1, 0, 200]\n",
    "costs = [c for c in costs if c >= 0]\n",
    "total_costs = sum(costs)\n",
    "print(total_costs)"
   ]
  },
  {
   "cell_type": "markdown",
   "id": "6fcf6c31",
   "metadata": {},
   "source": [
    "### Задание 4:\n",
    "Даны два списка.\n",
    "\n",
    "Дата покупки\n",
    "\n",
    "['2021-09-14', '2021-12-15', '2021-09-08', '2021-12-05', '2021-10-09', '2021-09-30', '2021-12-22', '2021-11-29', '2021-12-24', '2021-11-26', '2021-10-27', '2021-12-18', '2021-11-09', '2021-11-23', '2021-09-27', '2021-10-02', '2021-12-27', '2021-09-20', '2021-12-13', '2021-11-01', '2021-11-09', '2021-12-06', '2021-12-08', '2021-10-09', '2021-10-31', '2021-09-30', '2021-11-09', '2021-12-13', '2021-10-26', '2021-12-09']\n",
    "\n",
    "Суммы покупок по датам\n",
    "\n",
    "[1270, 8413, 9028, 3703, 5739, 4095, 295, 4944, 5723, 3701, 4471, 651, 7037, 4274, 6275, 4988, 6930, 2971, 6592, 2004, 2822, 519, 3406, 2732, 5015, 2008, 316, 6333, 5700, 2887]\n",
    "#### 4.1 Найдите, какая выручка у компании в ноябре\n",
    "Используйте list comprehensions\n",
    "#### 4.2 Найдите выручку компании в зависимости от месяца\n",
    "Для этого напишите функцию, которая на вход принимает список с датами и список с выручкой, а на выходе словарь, где ключи - это месяцы, а значения - это выручка.\n",
    "Используйте аннотирование типов."
   ]
  },
  {
   "cell_type": "code",
   "execution_count": 4,
   "id": "408c7878",
   "metadata": {},
   "outputs": [
    {
     "name": "stdout",
     "output_type": "stream",
     "text": [
      "25098\n"
     ]
    }
   ],
   "source": [
    "purchases = ['2021-09-14', '2021-12-15', '2021-09-08', '2021-12-05', '2021-10-09', '2021-09-30', '2021-12-22', '2021-11-29', '2021-12-24', '2021-11-26', '2021-10-27', '2021-12-18', '2021-11-09', '2021-11-23', '2021-09-27', '2021-10-02', '2021-12-27', '2021-09-20', '2021-12-13', '2021-11-01', '2021-11-09', '2021-12-06', '2021-12-08', '2021-10-09', '2021-10-31', '2021-09-30', '2021-11-09', '2021-12-13', '2021-10-26', '2021-12-09']\n",
    "prices = [1270, 8413, 9028, 3703, 5739, 4095, 295, 4944, 5723, 3701, 4471, 651, 7037, 4274, 6275, 4988, 6930, 2971, 6592, 2004, 2822, 519, 3406, 2732, 5015, 2008, 316, 6333, 5700, 2887]\n",
    "\n",
    "revenue = sum([prices[i] for i in range(len(purchases)) if '11' in purchases[i]])\n",
    "print(revenue)"
   ]
  },
  {
   "cell_type": "code",
   "execution_count": 5,
   "id": "32751129",
   "metadata": {},
   "outputs": [],
   "source": [
    "from typing import List, Dict\n",
    "import datetime\n",
    "\n",
    "def calculate_revenue_by_month(purchase_dates: List[str], purchase_amounts: List[int]) -> Dict[str, int]:\n",
    "    revenue_by_month = {}\n",
    "    for i in range(len(purchase_dates)):\n",
    "        date = datetime.datetime.fromisoformat(purchase_dates[i])\n",
    "        month_key = date.strftime(\"%B-%Y\")  # key with month name and year\n",
    "        if month_key not in revenue_by_month:\n",
    "            revenue_by_month[month_key] = 0\n",
    "        revenue_by_month[month_key] += purchase_amounts[i]\n",
    "    return revenue_by_month"
   ]
  },
  {
   "cell_type": "code",
   "execution_count": 6,
   "id": "70119c3e",
   "metadata": {},
   "outputs": [
    {
     "name": "stdout",
     "output_type": "stream",
     "text": [
      "{'September-2021': 25647, 'December-2021': 45452, 'October-2021': 28645, 'November-2021': 25098}\n"
     ]
    }
   ],
   "source": [
    "purchase_dates = ['2021-09-14', '2021-12-15', '2021-09-08', '2021-12-05', '2021-10-09', '2021-09-30', \n",
    "                  '2021-12-22', '2021-11-29', '2021-12-24', '2021-11-26', '2021-10-27', '2021-12-18', \n",
    "                  '2021-11-09', '2021-11-23', '2021-09-27', '2021-10-02', '2021-12-27', '2021-09-20', \n",
    "                  '2021-12-13', '2021-11-01', '2021-11-09', '2021-12-06', '2021-12-08', '2021-10-09', \n",
    "                  '2021-10-31', '2021-09-30', '2021-11-09', '2021-12-13', '2021-10-26', '2021-12-09']\n",
    "\n",
    "purchase_amounts = [1270, 8413, 9028, 3703, 5739, 4095, 295, 4944, 5723, 3701, 4471, 651, 7037, \n",
    "                    4274, 6275, 4988, 6930, 2971, 6592, 2004, 2822, 519, 3406, 2732, 5015, 2008, \n",
    "                    316, 6333, 5700, 2887]\n",
    "\n",
    "revenue_by_month = calculate_revenue_by_month(purchase_dates, purchase_amounts)\n",
    "print(revenue_by_month)"
   ]
  },
  {
   "cell_type": "code",
   "execution_count": null,
   "id": "fb520500",
   "metadata": {},
   "outputs": [],
   "source": []
  }
 ],
 "metadata": {
  "kernelspec": {
   "display_name": "Python 3 (ipykernel)",
   "language": "python",
   "name": "python3"
  },
  "language_info": {
   "codemirror_mode": {
    "name": "ipython",
    "version": 3
   },
   "file_extension": ".py",
   "mimetype": "text/x-python",
   "name": "python",
   "nbconvert_exporter": "python",
   "pygments_lexer": "ipython3",
   "version": "3.10.9"
  }
 },
 "nbformat": 4,
 "nbformat_minor": 5
}
